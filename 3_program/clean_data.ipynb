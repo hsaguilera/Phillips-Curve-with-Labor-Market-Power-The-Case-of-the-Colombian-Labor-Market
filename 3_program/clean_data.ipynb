{
 "cells": [
  {
   "cell_type": "code",
   "execution_count": 205,
   "metadata": {},
   "outputs": [],
   "source": [
    "# Librarys\n",
    "import os\n",
    "import glob\n",
    "import pandas as pd\n",
    "import numpy as np\n",
    "import matplotlib.pyplot as plt"
   ]
  },
  {
   "cell_type": "code",
   "execution_count": 206,
   "metadata": {},
   "outputs": [
    {
     "name": "stdout",
     "output_type": "stream",
     "text": [
      ".dta files found:\n",
      "2008.dta\n",
      "2009.dta\n",
      "2010.dta\n",
      "2011.dta\n",
      "2012.dta\n",
      "2013.dta\n",
      "2014.dta\n",
      "2015.dta\n",
      "2016.dta\n",
      "2017.dta\n",
      "2018.dta\n",
      "2019.dta\n",
      "2020.dta\n"
     ]
    }
   ],
   "source": [
    "path = r\"C:\\Investigation\\wage phillips curve with labor market power\\2_data\\microdato geih\\dta\"\n",
    "os.chdir(path)\n",
    "\n",
    "files_dta = glob.glob(\"*.dta\")\n",
    "\n",
    "print(\".dta files found:\")\n",
    "for archivo in files_dta:\n",
    "    print(archivo)"
   ]
  },
  {
   "cell_type": "code",
   "execution_count": 207,
   "metadata": {},
   "outputs": [
    {
     "name": "stderr",
     "output_type": "stream",
     "text": [
      "C:\\Users\\harol\\AppData\\Local\\Temp\\ipykernel_10556\\106657914.py:4: UnicodeWarning: \n",
      "One or more strings in the dta file could not be decoded using utf-8, and\n",
      "so the fallback encoding of latin-1 is being used.  This can happen when a file\n",
      "has been incorrectly encoded by Stata or some other software. You should verify\n",
      "the string values returned are correct.\n",
      "  data = pd.read_stata(file)\n",
      "C:\\Users\\harol\\AppData\\Local\\Temp\\ipykernel_10556\\106657914.py:4: UnicodeWarning: \n",
      "One or more strings in the dta file could not be decoded using utf-8, and\n",
      "so the fallback encoding of latin-1 is being used.  This can happen when a file\n",
      "has been incorrectly encoded by Stata or some other software. You should verify\n",
      "the string values returned are correct.\n",
      "  data = pd.read_stata(file)\n",
      "C:\\Users\\harol\\AppData\\Local\\Temp\\ipykernel_10556\\106657914.py:4: UnicodeWarning: \n",
      "One or more strings in the dta file could not be decoded using utf-8, and\n",
      "so the fallback encoding of latin-1 is being used.  This can happen when a file\n",
      "has been incorrectly encoded by Stata or some other software. You should verify\n",
      "the string values returned are correct.\n",
      "  data = pd.read_stata(file)\n"
     ]
    },
    {
     "name": "stdout",
     "output_type": "stream",
     "text": [
      "<class 'pandas.core.frame.DataFrame'>\n",
      "RangeIndex: 756063 entries, 0 to 756062\n",
      "Columns: 364 entries, directorio to empi\n",
      "dtypes: category(219), float32(17), float64(101), int16(1), int32(1), int8(7), object(18)\n",
      "memory usage: 902.8+ MB\n",
      "None\n"
     ]
    }
   ],
   "source": [
    "year = input(\" : \")\n",
    "file = f\"{year}.dta\"\n",
    "if file in os.listdir():\n",
    "    data = pd.read_stata(file)\n",
    "    print(data.info())\n",
    "else:\n",
    "    print(f\"No file found for the year {year}.\")"
   ]
  },
  {
   "cell_type": "code",
   "execution_count": 208,
   "metadata": {},
   "outputs": [],
   "source": [
    "if year == \"2008\":\n",
    "    print(data.head())\n",
    "    data.loc[(data['mes'].astype(int) <= 6) & data['inglabo'].isna(), 'inglabo'] = data.loc[(data['mes'].astype(int) <= 6) & data['inglabo'].isna(), 'p6500']\n",
    "    data_08 = [\"regis\", \"mes\", \"trimestre\", \"oci\", \"rama4d\", \"rama4d_d\", \"rama4dp8\", \"area\", \"dpto\", \"inglabo\", \n",
    "               \"p6500\", \"p6020\", \"p6920\", \"p6940\", \"p6990\", \"fex\", \"empi\"]\n",
    "    data_08 = data.loc[:, data_08].copy()\n",
    "    data_08 = data_08.dropna(subset=[\"oci\"])\n",
    "    data_08 = data_08.dropna(subset=[\"inglabo\"])[data_08['inglabo'].dropna() != 0]\n",
    "    data_08 = data_08[data_08[\"inglabo\"] <= 50000000]\n",
    "    data_08['period'] = year + data_08['mes'].astype(int).apply(lambda x: f'{x:02d}')\n",
    "    columns = [\"regis\", \"period\", \"mes\", \"trimestre\", \"oci\", \"rama4d\", \"rama4d_d\", \"rama4dp8\", \"area\", \"dpto\", \"inglabo\", \n",
    "           \"p6500\", \"p6020\", \"p6920\", \"p6940\", \"p6990\", \"fex\", \"empi\"]\n",
    "    data_08 = data_08.reindex(columns = columns)\n",
    "    print(data_08.head())\n",
    "    data_08.to_excel(r\"C:\\Investigation\\wage phillips curve with labor market power\\2_data\\microdato geih\\excel\\2008.xlsx\", index=False)"
   ]
  },
  {
   "cell_type": "code",
   "execution_count": 209,
   "metadata": {},
   "outputs": [],
   "source": [
    "if year == \"2009\":\n",
    "    print(data.head())\n",
    "    data_09 = [\"regis\", \"mes\", \"trimestre\", \"oci\", \"rama4d\", \"rama4d_d\", \"rama4dp8\", \"area\", \"dpto\", \"inglabo\", \n",
    "               \"p6500\", \"p6020\", \"p6920\", \"p6940\", \"p6990\", \"fex\", \"empi\"]\n",
    "    data_09 = data.loc[:, data_09].copy()\n",
    "    data_09 = data_09.dropna(subset=[\"oci\"])\n",
    "    data_09 = data_09.dropna(subset=[\"inglabo\"])\n",
    "    data_09 = data_09[data_09[\"inglabo\"] <= 50000000]\n",
    "    data_09['period'] = year + data_09['mes'].astype(int).apply(lambda x: f'{x:02d}')\n",
    "    columns = [\"regis\", \"period\", \"mes\", \"trimestre\", \"oci\", \"rama4d\", \"rama4d_d\", \"rama4dp8\", \"area\", \"dpto\", \"inglabo\", \n",
    "           \"p6500\", \"p6020\", \"p6920\", \"p6940\", \"p6990\", \"fex\", \"empi\"]\n",
    "    data_09 = data_09.reindex(columns = columns)\n",
    "    print(data_09.head())\n",
    "    data_09.to_excel(r\"C:\\Investigation\\wage phillips curve with labor market power\\2_data\\microdato geih\\excel\\2009.xlsx\", index = False)"
   ]
  },
  {
   "cell_type": "code",
   "execution_count": 210,
   "metadata": {},
   "outputs": [],
   "source": [
    "if year == \"2010\":\n",
    "    print(data.head())\n",
    "    data_10 = [\"regis\", \"mes\", \"trimestre\", \"oci\", \"rama4d\", \"rama4d_d\", \"rama4dp8\", \"area\", \"dpto\", \"inglabo\", \n",
    "               \"p6500\", \"p6020\", \"p6920\", \"p6940\", \"p6990\", \"fex\", \"empi\"]\n",
    "    data_10 = data.loc[:, data_10].copy()\n",
    "    data_10 = data_10.dropna(subset=[\"oci\"])\n",
    "    data_10 = data_10.dropna(subset=[\"inglabo\"])\n",
    "    data_10 = data_10[data_10[\"inglabo\"] <= 50000000]\n",
    "    data_10['period'] = year + data_10['mes'].astype(int).apply(lambda x: f'{x:02d}')\n",
    "    columns = [\"regis\", \"period\", \"mes\", \"trimestre\", \"oci\", \"rama4d\", \"rama4d_d\", \"rama4dp8\", \"area\", \"dpto\", \"inglabo\", \n",
    "           \"p6500\", \"p6020\", \"p6920\", \"p6940\", \"p6990\", \"fex\", \"empi\"]\n",
    "    data_10 = data_10.reindex(columns = columns)\n",
    "    print(data_10.head())\n",
    "    data_10.to_excel(r\"C:\\Investigation\\wage phillips curve with labor market power\\2_data\\microdato geih\\excel\\2010.xlsx\", index = False)"
   ]
  },
  {
   "cell_type": "code",
   "execution_count": 211,
   "metadata": {},
   "outputs": [],
   "source": [
    "if year == \"2011\":\n",
    "    print(data.head())\n",
    "    data_11 = [\"regis\", \"mes\", \"trimestre\", \"oci\", \"rama4d\", \"rama4d_d\", \"rama4dp8\", \"area\", \"dpto\", \"inglabo\", \n",
    "               \"p6500\", \"p6020\", \"p6920\", \"p6940\", \"p6990\", \"fex\", \"empi\"]\n",
    "    data_11 = data.loc[:, data_11].copy()\n",
    "    data_11 = data_11.dropna(subset=[\"oci\"])\n",
    "    data_11 = data_11.dropna(subset=[\"inglabo\"])\n",
    "    data_11 = data_11[data_11[\"inglabo\"] <= 50000000]\n",
    "    data_11['period'] = year + data_11['mes'].astype(int).apply(lambda x: f'{x:02d}')\n",
    "    columns = [\"regis\", \"period\", \"mes\", \"trimestre\", \"oci\", \"rama4d\", \"rama4d_d\", \"rama4dp8\", \"area\", \"dpto\", \"inglabo\", \n",
    "           \"p6500\", \"p6020\", \"p6920\", \"p6940\", \"p6990\", \"fex\", \"empi\"]\n",
    "    data_11 = data_11.reindex(columns = columns)\n",
    "    print(data_11.head())\n",
    "    data_11.to_excel(r\"C:\\Investigation\\wage phillips curve with labor market power\\2_data\\microdato geih\\excel\\2011.xlsx\", index = False)"
   ]
  },
  {
   "cell_type": "code",
   "execution_count": 212,
   "metadata": {},
   "outputs": [],
   "source": [
    "if year == \"2012\":\n",
    "    print(data.head())\n",
    "    data_12 = [\"regis\", \"mes\", \"trimestre\", \"oci\", \"rama4d\", \"rama4d_d\", \"rama4dp8\", \"area\", \"dpto\", \"inglabo\", \n",
    "               \"p6500\", \"p6020\", \"p6920\", \"p6940\", \"p6990\", \"fex\", \"empi\"]\n",
    "    data_12 = data.loc[:, data_12].copy()\n",
    "    data_12 = data_12.dropna(subset=[\"oci\"])\n",
    "    data_12 = data_12.dropna(subset=[\"inglabo\"])\n",
    "    data_12 = data_12[data_12[\"inglabo\"] <= 50000000]\n",
    "    data_12['period'] = year + data_12['mes'].astype(int).apply(lambda x: f'{x:02d}')\n",
    "    columns = [\"regis\", \"period\", \"mes\", \"trimestre\", \"oci\", \"rama4d\", \"rama4d_d\", \"rama4dp8\", \"area\", \"dpto\", \"inglabo\", \n",
    "           \"p6500\", \"p6020\", \"p6920\", \"p6940\", \"p6990\", \"fex\", \"empi\"]\n",
    "    data_12 = data_12.reindex(columns = columns)\n",
    "    print(data_12.head())\n",
    "    data_12.to_excel(r\"C:\\Investigation\\wage phillips curve with labor market power\\2_data\\microdato geih\\excel\\2012.xlsx\", index = False)"
   ]
  },
  {
   "cell_type": "code",
   "execution_count": 213,
   "metadata": {},
   "outputs": [],
   "source": [
    "if year == \"2013\":\n",
    "    print(data.head())\n",
    "    data_13 = [\"regis\", \"mes\", \"trimestre\", \"oci\", \"rama4d\", \"rama4d_d\", \"rama4dp8\", \"area\", \"dpto\", \"inglabo\", \n",
    "               \"p6500\", \"p6020\", \"p6920\", \"p6940\", \"p6990\", \"fex\", \"empi\"]\n",
    "    data_13 = data.loc[:, data_13].copy()\n",
    "    data_13 = data_13.dropna(subset=[\"oci\"])\n",
    "    data_13 = data_13.dropna(subset=[\"inglabo\"])\n",
    "    data_13 = data_13[data_13[\"inglabo\"] <= 50000000]\n",
    "    data_13['period'] = year + data_13['mes'].astype(int).apply(lambda x: f'{x:02d}')\n",
    "    columns = [\"regis\", \"period\", \"mes\", \"trimestre\", \"oci\", \"rama4d\", \"rama4d_d\", \"rama4dp8\", \"area\", \"dpto\", \"inglabo\", \n",
    "           \"p6500\", \"p6020\", \"p6920\", \"p6940\", \"p6990\", \"fex\", \"empi\"]\n",
    "    data_13 = data_13.reindex(columns = columns)\n",
    "    print(data_13.head())\n",
    "    data_13.to_excel(r\"C:\\Investigation\\wage phillips curve with labor market power\\2_data\\microdato geih\\excel\\2013.xlsx\", index = False)"
   ]
  },
  {
   "cell_type": "code",
   "execution_count": 214,
   "metadata": {},
   "outputs": [],
   "source": [
    "if year == \"2014\":\n",
    "    print(data.head())\n",
    "    data_14 = [\"regis\", \"mes\", \"trimestre\", \"oci\", \"rama4d\", \"rama4d_d\", \"rama4dp8\", \"area\", \"dpto\", \"inglabo\", \n",
    "               \"p6500\", \"p6020\", \"p6920\", \"p6940\", \"p6990\", \"fex\", \"empi\"]\n",
    "    data_14 = data.loc[:, data_14].copy()\n",
    "    data_14 = data_14.dropna(subset=[\"oci\"])\n",
    "    data_14 = data_14.dropna(subset=[\"inglabo\"])\n",
    "    data_14 = data_14[data_14[\"inglabo\"] <= 50000000]\n",
    "    data_14['period'] = year + data_14['mes'].astype(int).apply(lambda x: f'{x:02d}')\n",
    "    columns = [\"regis\", \"period\", \"mes\", \"trimestre\", \"oci\", \"rama4d\", \"rama4d_d\", \"rama4dp8\", \"area\", \"dpto\", \"inglabo\", \n",
    "           \"p6500\", \"p6020\", \"p6920\", \"p6940\", \"p6990\", \"fex\", \"empi\"]\n",
    "    data_14 = data_14.reindex(columns = columns)\n",
    "    print(data_14.head())\n",
    "    data_14.to_excel(r\"C:\\Investigation\\wage phillips curve with labor market power\\2_data\\microdato geih\\excel\\2014.xlsx\", index = False)"
   ]
  },
  {
   "cell_type": "code",
   "execution_count": 215,
   "metadata": {},
   "outputs": [],
   "source": [
    "if year == \"2015\":\n",
    "    print(data.head())\n",
    "    data_15 = [\"regis\", \"mes\", \"trimestre\", \"oci\", \"rama4d\", \"rama4d_d\", \"rama4dp8\", \"area\", \"dpto\", \"inglabo\", \n",
    "               \"p6500\", \"p6020\", \"p6920\", \"p6940\", \"p6990\", \"fex\", \"empi\"]\n",
    "    data_15 = data.loc[:, data_15].copy()\n",
    "    data_15 = data_15.dropna(subset=[\"oci\"])\n",
    "    data_15 = data_15.dropna(subset=[\"inglabo\"])\n",
    "    data_15 = data_15[data_15[\"inglabo\"] <= 50000000]\n",
    "    data_15['period'] = year + data_15['mes'].astype(int).apply(lambda x: f'{x:02d}')\n",
    "    columns = [\"regis\", \"period\", \"mes\", \"trimestre\", \"oci\", \"rama4d\", \"rama4d_d\", \"rama4dp8\", \"area\", \"dpto\", \"inglabo\", \n",
    "           \"p6500\", \"p6020\", \"p6920\", \"p6940\", \"p6990\", \"fex\", \"empi\"]\n",
    "    data_15 = data_15.reindex(columns = columns)\n",
    "    print(data_15.head())\n",
    "    data_15.to_excel(r\"C:\\Investigation\\wage phillips curve with labor market power\\2_data\\microdato geih\\excel\\2015.xlsx\", index = False)"
   ]
  },
  {
   "cell_type": "code",
   "execution_count": 216,
   "metadata": {},
   "outputs": [],
   "source": [
    "if year == \"2016\":\n",
    "    print(data.head())\n",
    "    data_16 = [\"regis\", \"mes\", \"trimestre\", \"oci\", \"rama4d\", \"rama4d_d\", \"rama4dp8\", \"area\", \"dpto\", \"inglabo\", \n",
    "              \"p6500\", \"p6020\", \"p6920\", \"p6940\", \"p6990\", \"fex\", \"empi\"]\n",
    "    data_16 = data.loc[:, data_16].copy()\n",
    "    data_16 = data_16.dropna(subset=[\"oci\"])\n",
    "    data_16 = data_16.dropna(subset=[\"inglabo\"])\n",
    "    data_16 = data_16[data_16[\"inglabo\"] <= 50000000]\n",
    "    data_16['period'] = year + data_16['mes'].astype(int).apply(lambda x: f'{x:02d}')\n",
    "    columns = [\"regis\", \"period\", \"mes\", \"trimestre\", \"oci\", \"rama4d\", \"rama4d_d\", \"rama4dp8\", \"area\", \"dpto\", \"inglabo\", \n",
    "           \"p6500\", \"p6020\", \"p6920\", \"p6940\", \"p6990\", \"fex\", \"empi\"]\n",
    "    data_16 = data_16.reindex(columns = columns)\n",
    "    print(data_16.head())\n",
    "    data_16.to_excel(r\"C:\\Investigation\\wage phillips curve with labor market power\\2_data\\microdato geih\\excel\\2016.xlsx\", index = False)"
   ]
  },
  {
   "cell_type": "code",
   "execution_count": 217,
   "metadata": {},
   "outputs": [],
   "source": [
    "if year == \"2017\":\n",
    "    print(data.head())\n",
    "    data_17 = [\"regis\", \"mes\", \"trimestre\", \"oci\", \"rama4d\", \"rama4d_d\", \"rama4dp8\", \"area\", \"dpto\", \"inglabo\", \n",
    "               \"p6500\", \"p6020\", \"p6920\", \"p6940\", \"p6990\", \"fex\", \"empi\"]\n",
    "    data_17 = data.loc[:, data_17].copy()\n",
    "    data_17 = data_17.dropna(subset=[\"oci\"])\n",
    "    data_17 = data_17.dropna(subset=[\"inglabo\"])\n",
    "    data_17 = data_17[data_17[\"inglabo\"] <= 50000000]\n",
    "    data_17['period'] = year + data_17['mes'].astype(int).apply(lambda x: f'{x:02d}')\n",
    "    columns = [\"regis\", \"period\", \"mes\", \"trimestre\", \"oci\", \"rama4d\", \"rama4d_d\", \"rama4dp8\", \"area\", \"dpto\", \"inglabo\", \n",
    "           \"p6500\", \"p6020\", \"p6920\", \"p6940\", \"p6990\", \"fex\", \"empi\"]\n",
    "    data_17 = data_17.reindex(columns = columns)\n",
    "    print(data_17.head())\n",
    "    data_17.to_excel(r\"C:\\Investigation\\wage phillips curve with labor market power\\2_data\\microdato geih\\excel\\2017.xlsx\", index = False)"
   ]
  },
  {
   "cell_type": "code",
   "execution_count": 218,
   "metadata": {},
   "outputs": [],
   "source": [
    "if year == \"2018\":\n",
    "    print(data.head())\n",
    "    data_18 = [\"regis\", \"mes\", \"trimestre\", \"oci\", \"rama4d\", \"rama4d_d\", \"rama4dp8\", \"area\", \"dpto\", \"inglabo\", \n",
    "               \"p6500\", \"p6020\", \"p6920\", \"p6940\", \"p6990\", \"fex\", \"empi\"]\n",
    "    data_18 = data.loc[:, data_18].copy()\n",
    "    data_18 = data_18.dropna(subset=[\"oci\"])\n",
    "    data_18 = data_18.dropna(subset=[\"inglabo\"])\n",
    "    data_18 = data_18[data_18[\"inglabo\"] <= 50000000]\n",
    "    data_18['period'] = year + data_18['mes'].astype(int).apply(lambda x: f'{x:02d}')\n",
    "    columns = [\"regis\", \"period\", \"mes\", \"trimestre\", \"oci\", \"rama4d\", \"rama4d_d\", \"rama4dp8\", \"area\", \"dpto\", \"inglabo\", \n",
    "           \"p6500\", \"p6020\", \"p6920\", \"p6940\", \"p6990\", \"fex\", \"empi\"]\n",
    "    data_18 = data_18.reindex(columns = columns)\n",
    "    print(data_18.head())\n",
    "    data_18.to_excel(r\"C:\\Investigation\\wage phillips curve with labor market power\\2_data\\microdato geih\\excel\\2018.xlsx\", index = False)"
   ]
  },
  {
   "cell_type": "code",
   "execution_count": 219,
   "metadata": {},
   "outputs": [
    {
     "name": "stdout",
     "output_type": "stream",
     "text": [
      "   directorio  secuencia_p  orden  hogar regis  p6016   p6020  p6030s1  \\\n",
      "0     4804535            1      1      1    10      1   mujer      5.0   \n",
      "1     4804535            1      2      1    10      2  hombre      9.0   \n",
      "2     4804535            1      3      1    10      3   mujer      8.0   \n",
      "3     4804536            1      1      1    10      1   mujer      8.0   \n",
      "4     4804536            1      2      1    10      1   mujer     10.0   \n",
      "\n",
      "   p6030s3  p6040  ...        fea trimestre semestre         fet   anios  \\\n",
      "0   1948.0     70  ...  77.552193       1.0      1.0  310.208771  2018.0   \n",
      "1   1980.0     38  ...  77.552193       1.0      1.0  310.208771  2018.0   \n",
      "2   1995.0     23  ...  77.552193       1.0      1.0  310.208771  2018.0   \n",
      "3   1997.0     21  ...  91.434258       1.0      1.0  365.737030  2018.0   \n",
      "4   2014.0      4  ...  91.434258       1.0      1.0  365.737030  2018.0   \n",
      "\n",
      "   oficio_c8_2d formal  salud pension empi  \n",
      "0           NaN    NaN    0.0     0.0  0.0  \n",
      "1           NaN    0.0    0.0     0.0  0.0  \n",
      "2           NaN    0.0    1.0     0.0  0.0  \n",
      "3           NaN    0.0    0.0     0.0  0.0  \n",
      "4           NaN    NaN    0.0     0.0  0.0  \n",
      "\n",
      "[5 rows x 364 columns]\n",
      "  regis  period  mes  trimestre                oci rama4d rama4d_d rama4dp8  \\\n",
      "1    10  201901  1.0        1.0  población ocupada   4521                     \n",
      "2    10  201901  1.0        1.0  población ocupada   9191                     \n",
      "3    10  201901  1.0        1.0  población ocupada   1810                     \n",
      "5    10  201901  1.0        1.0  población ocupada   9242                     \n",
      "7    10  201901  1.0        1.0  población ocupada   7499                     \n",
      "\n",
      "  area dpto    inglabo     p6500   p6020 p6920  \\\n",
      "1   05   05   781242.0  781242.0  hombre    no   \n",
      "2   05   05  1081242.0  781242.0   mujer    no   \n",
      "3   05   05   600000.0  600000.0   mujer    no   \n",
      "5   05   05   900000.0  900000.0  hombre    no   \n",
      "7   05   05   781242.0  781242.0   mujer    sí   \n",
      "\n",
      "                                           p6940 p6990          fex  \n",
      "1                                            NaN    no   930.626282  \n",
      "2                                            NaN    no   930.626282  \n",
      "3                                            NaN    no  1097.211060  \n",
      "5                                            NaN    no   827.297485  \n",
      "7  ...paga una parte y otra la empresa o patrón     sí   827.297485  \n"
     ]
    }
   ],
   "source": [
    "if year == \"2019\":\n",
    "    print(data.head())\n",
    "    data_19 = [\"regis\", \"mes\", \"trimestre\", \"oci\", \"rama4d\", \"rama4d_d\", \"rama4dp8\", \"area\", \"dpto\", \"inglabo\", \n",
    "               \"p6500\", \"p6020\", \"p6920\", \"p6940\", \"p6990\", \"fex\", \"empi\"]\n",
    "    data_19 = data.loc[:, data_19].copy()\n",
    "    data_19 = data_19.dropna(subset=[\"oci\"])\n",
    "    data_19 = data_19.dropna(subset=[\"inglabo\"])\n",
    "    data_19 = data_19[data_19[\"inglabo\"] <= 50000000]\n",
    "    data_19['period'] = year + data_19['mes'].astype(int).apply(lambda x: f'{x:02d}')\n",
    "    columns = [\"regis\", \"period\", \"mes\", \"trimestre\", \"oci\", \"rama4d\", \"rama4d_d\", \"rama4dp8\", \"area\", \"dpto\", \"inglabo\", \n",
    "               \"p6500\", \"p6020\", \"p6920\", \"p6940\", \"p6990\", \"fex\"]\n",
    "    data_19 = data_19.reindex(columns = columns)\n",
    "    print(data_19.head())\n",
    "    data_19.to_excel(r\"C:\\Investigation\\wage phillips curve with labor market power\\2_data\\microdato geih\\excel\\2019.xlsx\", index = False)"
   ]
  },
  {
   "cell_type": "code",
   "execution_count": 220,
   "metadata": {},
   "outputs": [],
   "source": [
    "if year == \"2020\":\n",
    "    print(data.head())\n",
    "    data_20 = [\"regis\", \"mes\", \"trimestre\", \"oci\", \"rama4d_r4\", \"rama4d_d_r4\", \"rama4dp8_r4\", \"area\", \"dpto\", \"inglabo\", \n",
    "               \"p6500\", \"p6020\", \"p6920\", \"p6940\", \"p6990\", \"fex\", \"empi\"]\n",
    "    data_20 = data.loc[:, data_20].copy()\n",
    "    data_20 = data_20.dropna(subset=[\"oci\"])\n",
    "    data_20 = data_20.dropna(subset=[\"inglabo\"])\n",
    "    data_20 = data_20[data_20[\"inglabo\"] <= 50000000]\n",
    "    data_20['period'] = year + data_20['mes'].astype(int).apply(lambda x: f'{x:02d}')\n",
    "    columns = [\"regis\", \"period\", \"mes\", \"trimestre\", \"oci\", \"rama4d_r4\", \"rama4d_d_r4\", \"rama4dp8_r4\", \"area\", \"dpto\", \"inglabo\", \n",
    "               \"p6500\", \"p6020\", \"p6920\", \"p6940\", \"p6990\", \"fex\", \"empi\"]\n",
    "    data_20 = data_20.reindex(columns = columns)\n",
    "    print(data_20.head())\n",
    "    data_20.to_excel(r\"C:\\Investigation\\wage phillips curve with labor market power\\2_data\\microdato geih\\excel\\2020.xlsx\", index = False)"
   ]
  },
  {
   "cell_type": "code",
   "execution_count": 221,
   "metadata": {},
   "outputs": [
    {
     "data": {
      "image/png": "[encoded data removed]",
      "text/plain": [
       "<Figure size 640x480 with 1 Axes>"
      ]
     },
     "metadata": {},
     "output_type": "display_data"
    }
   ],
   "source": [
    "frec = data_20[\"inglabo\"]\n",
    "\n",
    "plt.hist(frec, bins = 5)\n",
    "frecuencias = plt.hist(frec, bins = 5)[0]\n",
    "for i, frecuencia in enumerate(frecuencias):\n",
    "    plt.text(x=(plt.hist(frec, bins=5)[1][i] + plt.hist(frec, bins=5)[1][i+1]) / 2 - 0.5,\n",
    "             y=frecuencia + 0.1,\n",
    "             s=str(int(frecuencia)),\n",
    "             size=10,\n",
    "             ha='center')"
   ]
  }
 ],
 "metadata": {
  "kernelspec": {
   "display_name": "Python 3",
   "language": "python",
   "name": "python3"
  },
  "language_info": {
   "codemirror_mode": {
    "name": "ipython",
    "version": 3
   },
   "file_extension": ".py",
   "mimetype": "text/x-python",
   "name": "python",
   "nbconvert_exporter": "python",
   "pygments_lexer": "ipython3",
   "version": "3.10.11"
  }
 },
 "nbformat": 4,
 "nbformat_minor": 2
}
